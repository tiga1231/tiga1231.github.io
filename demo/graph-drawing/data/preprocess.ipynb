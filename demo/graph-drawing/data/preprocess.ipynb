{
 "cells": [
  {
   "cell_type": "code",
   "execution_count": 2,
   "metadata": {},
   "outputs": [],
   "source": [
    "from natsort import natsorted\n",
    "\n",
    "## sys\n",
    "import random\n",
    "import time\n",
    "from glob import glob\n",
    "import json\n",
    "\n",
    "\n",
    "## numeric\n",
    "import numpy as np\n",
    "import torch\n",
    "from torch import nn, optim\n",
    "import torch.nn.functional as F\n",
    "\n",
    "## vis\n",
    "import networkx as nx\n",
    "import matplotlib.pyplot as plt\n",
    "import matplotlib.animation as animation\n",
    "from matplotlib.colors import LinearSegmentedColormap\n",
    "from mpl_toolkits import mplot3d\n",
    "from matplotlib import collections  as mc\n",
    "from mpl_toolkits.mplot3d.art3d import Line3DCollection\n",
    "\n",
    "## notebook\n",
    "from IPython import display\n",
    "from tqdm import tqdm_notebook as tqdm\n",
    "\n",
    "device = torch.device('cuda') if torch.cuda.is_available() else torch.device('cpu')\n",
    "\n",
    "plt.style.use('ggplot')\n",
    "plt.style.use('seaborn-colorblind')"
   ]
  },
  {
   "cell_type": "code",
   "execution_count": 61,
   "metadata": {},
   "outputs": [],
   "source": [
    "def dict2tensor(d, fill=None):\n",
    "    n = len(d.keys())\n",
    "    k2i = {k:i for i,k in enumerate(natsorted(d.keys()))}\n",
    "    res = torch.zeros(len(d.keys()), len(d.keys()), device=device)\n",
    "    for src_node, dst_nodes in d.items():\n",
    "        for dst_node, distance in dst_nodes.items():\n",
    "            if fill is not None:\n",
    "                res[k2i[src_node],k2i[dst_node]] = fill\n",
    "            else:\n",
    "                res[k2i[src_node],k2i[dst_node]] = distance\n",
    "    return res, k2i\n",
    "\n",
    "\n",
    "def graph2json(G,D,W, initPositions):\n",
    "    return {\n",
    "        'nodes': [\n",
    "            {\n",
    "                'index':i, \n",
    "                'id': n,\n",
    "                'x': initPositions[i]['x'],\n",
    "                'y': initPositions[i]['y'],\n",
    "            } \n",
    "            for i, n in enumerate(G.nodes)\n",
    "        ],\n",
    "        'edges': [\n",
    "            {\n",
    "                'source': e1, \n",
    "                'target': e2\n",
    "            } \n",
    "            for e1,e2 in G.edges\n",
    "        ],\n",
    "        'weight': W.cpu().numpy().tolist(),\n",
    "        'graphDistance': D.cpu().numpy().tolist(),\n",
    "    }"
   ]
  },
  {
   "cell_type": "markdown",
   "metadata": {},
   "source": [
    "## generate a graph"
   ]
  },
  {
   "cell_type": "code",
   "execution_count": 63,
   "metadata": {},
   "outputs": [
    {
     "data": {
      "text/plain": [
       "['_neato_sfdp_layouts0/grid_neato.dot',\n",
       " '_neato_sfdp_layouts0/grid_sfdp.dot',\n",
       " '_tsne_output/grid_tsne.json']"
      ]
     },
     "execution_count": 63,
     "metadata": {},
     "output_type": "execute_result"
    }
   ],
   "source": [
    "fns = natsorted(\n",
    "    glob('_tsne_output/*.json')\n",
    "    +glob('_neato_sfdp_layouts0/*.dot'),\n",
    "    key=lambda x:x.split('/')[-1]\n",
    ")\n",
    "fns = [fn for fn in fns if 'grid' in fn and 'tnse']\n",
    "fns\n"
   ]
  },
  {
   "cell_type": "code",
   "execution_count": 75,
   "metadata": {},
   "outputs": [
    {
     "data": {
      "text/plain": [
       "NodeView(('0', '1', '2', '3', '4', '5', '6', '7', '8', '9', '10', '11', '12', '13', '14', '15', '16', '17', '18', '19', '20', '21', '22', '23', '24', 0, 2, 5, 24, 1, 10, 17, 15, 4, 11, 3, 20, 13, 14, 8, 6, 7, 12, 9, 19, 22, 23, 21, 16, 18))"
      ]
     },
     "execution_count": 75,
     "metadata": {},
     "output_type": "execute_result"
    }
   ],
   "source": [
    "G.nodes"
   ]
  },
  {
   "cell_type": "code",
   "execution_count": 99,
   "metadata": {
    "scrolled": true
   },
   "outputs": [
    {
     "name": "stdout",
     "output_type": "stream",
     "text": [
      " in: _neato_sfdp_layouts0/grid_neato.dot\n",
      "[{'index': 0, 'id': '(4, 0)'}, {'index': 1, 'id': '(2, 0)'}, {'index': 2, 'id': '(0, 3)'}, {'index': 3, 'id': '(4, 3)'}, {'index': 4, 'id': '(1, 0)'}, {'index': 5, 'id': '(4, 1)'}, {'index': 6, 'id': '(3, 0)'}, {'index': 7, 'id': '(1, 4)'}, {'index': 8, 'id': '(2, 4)'}, {'index': 9, 'id': '(1, 3)'}, {'index': 10, 'id': '(3, 4)'}, {'index': 11, 'id': '(0, 1)'}, {'index': 12, 'id': '(3, 3)'}, {'index': 13, 'id': '(3, 2)'}, {'index': 14, 'id': '(2, 3)'}, {'index': 15, 'id': '(0, 4)'}, {'index': 16, 'id': '(3, 1)'}, {'index': 17, 'id': '(4, 4)'}, {'index': 18, 'id': '(4, 2)'}, {'index': 19, 'id': '(0, 2)'}, {'index': 20, 'id': '(1, 1)'}, {'index': 21, 'id': '(0, 0)'}, {'index': 22, 'id': '(2, 2)'}, {'index': 23, 'id': '(2, 1)'}, {'index': 24, 'id': '(1, 2)'}]\n",
      "{'index': 21, 'id': '(0, 0)', 'x': 45.949, 'y': -233.07}\n",
      "{'index': 11, 'id': '(0, 1)', 'x': 93.981, 'y': -165.28}\n",
      "{'index': 19, 'id': '(0, 2)', 'x': 141.93, 'y': -95.434}\n",
      "{'index': 2, 'id': '(0, 3)', 'x': 188.44, 'y': -24.646}\n",
      "{'index': 15, 'id': '(0, 4)', 'x': 233.06, 'y': 45.37}\n",
      "{'index': 4, 'id': '(1, 0)', 'x': -24.077, 'y': -188.5}\n",
      "{'index': 20, 'id': '(1, 1)', 'x': 23.508, 'y': -118.6}\n",
      "{'index': 24, 'id': '(1, 2)', 'x': 71.609, 'y': -47.685}\n",
      "{'index': 9, 'id': '(1, 3)', 'x': 118.98, 'y': 23.72}\n",
      "{'index': 7, 'id': '(1, 4)', 'x': 165.55, 'y': 94.182}\n",
      "{'index': 1, 'id': '(2, 0)', 'x': -94.904, 'y': -142.16}\n",
      "{'index': 23, 'id': '(2, 1)', 'x': -47.929, 'y': -71.292}\n",
      "{'index': 22, 'id': '(2, 2)', 'x': -0.0027941, 'y': 0.44814}\n",
      "{'index': 14, 'id': '(2, 3)', 'x': 48.117, 'y': 72.041}\n",
      "{'index': 8, 'id': '(2, 4)', 'x': 95.606, 'y': 142.42}\n",
      "{'index': 6, 'id': '(3, 0)', 'x': -164.84, 'y': -94.482}\n",
      "{'index': 16, 'id': '(3, 1)', 'x': -118.95, 'y': -23.361}\n",
      "{'index': 13, 'id': '(3, 2)', 'x': -71.809, 'y': 48.265}\n",
      "{'index': 12, 'id': '(3, 3)', 'x': -23.553, 'y': 119.13}\n",
      "{'index': 10, 'id': '(3, 4)', 'x': 24.411, 'y': 188.76}\n",
      "{'index': 0, 'id': '(4, 0)', 'x': -232.79, 'y': -46.846}\n",
      "{'index': 5, 'id': '(4, 1)', 'x': -188.92, 'y': 23.946}\n",
      "{'index': 18, 'id': '(4, 2)', 'x': -142.62, 'y': 95.148}\n",
      "{'index': 3, 'id': '(4, 3)', 'x': -94.539, 'y': 165.12}\n",
      "{'index': 17, 'id': '(4, 4)', 'x': -46.207, 'y': 232.82}\n",
      "['(0, 0)', '(0, 1)', '(0, 2)', '(0, 3)', '(0, 4)', '(1, 0)', '(1, 1)', '(1, 2)', '(1, 3)', '(1, 4)', '(2, 0)', '(2, 1)', '(2, 2)', '(2, 3)', '(2, 4)', '(3, 0)', '(3, 1)', '(3, 2)', '(3, 3)', '(3, 4)', '(4, 0)', '(4, 1)', '(4, 2)', '(4, 3)', '(4, 4)']\n",
      "25 25\n",
      "out: neato_layouts/grid_neato.json\n",
      "\n",
      " in: _neato_sfdp_layouts0/grid_sfdp.dot\n",
      "[{'index': 0, 'id': '(4, 0)'}, {'index': 1, 'id': '(2, 0)'}, {'index': 2, 'id': '(0, 3)'}, {'index': 3, 'id': '(4, 3)'}, {'index': 4, 'id': '(1, 0)'}, {'index': 5, 'id': '(4, 1)'}, {'index': 6, 'id': '(3, 0)'}, {'index': 7, 'id': '(1, 4)'}, {'index': 8, 'id': '(2, 4)'}, {'index': 9, 'id': '(1, 3)'}, {'index': 10, 'id': '(3, 4)'}, {'index': 11, 'id': '(0, 1)'}, {'index': 12, 'id': '(3, 3)'}, {'index': 13, 'id': '(3, 2)'}, {'index': 14, 'id': '(2, 3)'}, {'index': 15, 'id': '(0, 4)'}, {'index': 16, 'id': '(3, 1)'}, {'index': 17, 'id': '(4, 4)'}, {'index': 18, 'id': '(4, 2)'}, {'index': 19, 'id': '(0, 2)'}, {'index': 20, 'id': '(1, 1)'}, {'index': 21, 'id': '(0, 0)'}, {'index': 22, 'id': '(2, 2)'}, {'index': 23, 'id': '(2, 1)'}, {'index': 24, 'id': '(1, 2)'}]\n",
      "{'index': 21, 'id': '(0, 0)', 'x': 329.12, 'y': 446.66}\n",
      "{'index': 11, 'id': '(0, 1)', 'x': 258.96, 'y': 421.46}\n",
      "{'index': 19, 'id': '(0, 2)', 'x': 176.6, 'y': 387.92}\n",
      "{'index': 2, 'id': '(0, 3)', 'x': 95.792, 'y': 351.08}\n",
      "{'index': 15, 'id': '(0, 4)', 'x': 29.262, 'y': 317.54}\n",
      "{'index': 4, 'id': '(1, 0)', 'x': 362.62, 'y': 380.32}\n",
      "{'index': 20, 'id': '(1, 1)', 'x': 291.43, 'y': 352.26}\n",
      "{'index': 24, 'id': '(1, 2)', 'x': 207.07, 'y': 316.98}\n",
      "{'index': 9, 'id': '(1, 3)', 'x': 123.73, 'y': 279.83}\n",
      "{'index': 7, 'id': '(1, 4)', 'x': 54.531, 'y': 247.51}\n",
      "{'index': 1, 'id': '(2, 0)', 'x': 399.44, 'y': 299.46}\n",
      "{'index': 23, 'id': '(2, 1)', 'x': 328.71, 'y': 268.97}\n",
      "{'index': 22, 'id': '(2, 2)', 'x': 243.88, 'y': 232.34}\n",
      "{'index': 14, 'id': '(2, 3)', 'x': 158.89, 'y': 195.91}\n",
      "{'index': 8, 'id': '(2, 4)', 'x': 88.027, 'y': 165.29}\n",
      "{'index': 6, 'id': '(3, 0)', 'x': 433.22, 'y': 217.18}\n",
      "{'index': 16, 'id': '(3, 1)', 'x': 363.68, 'y': 184.8}\n",
      "{'index': 13, 'id': '(3, 2)', 'x': 280.34, 'y': 147.68}\n",
      "{'index': 12, 'id': '(3, 3)', 'x': 196.2, 'y': 112.52}\n",
      "{'index': 10, 'id': '(3, 4)', 'x': 125.01, 'y': 84.396}\n",
      "{'index': 0, 'id': '(4, 0)', 'x': 458.46, 'y': 147.23}\n",
      "{'index': 5, 'id': '(4, 1)', 'x': 391.82, 'y': 113.58}\n",
      "{'index': 18, 'id': '(4, 2)', 'x': 310.91, 'y': 76.844}\n",
      "{'index': 3, 'id': '(4, 3)', 'x': 228.71, 'y': 43.043}\n",
      "{'index': 17, 'id': '(4, 4)', 'x': 158.6, 'y': 18.0}\n",
      "['(0, 0)', '(0, 1)', '(0, 2)', '(0, 3)', '(0, 4)', '(1, 0)', '(1, 1)', '(1, 2)', '(1, 3)', '(1, 4)', '(2, 0)', '(2, 1)', '(2, 2)', '(2, 3)', '(2, 4)', '(3, 0)', '(3, 1)', '(3, 2)', '(3, 3)', '(3, 4)', '(4, 0)', '(4, 1)', '(4, 2)', '(4, 3)', '(4, 4)']\n",
      "25 25\n",
      "out: sfdp_layouts/grid_sfdp.json\n",
      "\n",
      "out: grid.json\n",
      "--------------------\n",
      " in: _tsne_output/grid_tsne.json\n",
      "[{'id': 0, 'index': 0}, {'id': 1, 'index': 1}, {'id': 2, 'index': 2}, {'id': 3, 'index': 3}, {'id': 4, 'index': 4}, {'id': 5, 'index': 5}, {'id': 6, 'index': 6}, {'id': 7, 'index': 7}, {'id': 8, 'index': 8}, {'id': 9, 'index': 9}, {'id': 10, 'index': 10}, {'id': 11, 'index': 11}, {'id': 12, 'index': 12}, {'id': 13, 'index': 13}, {'id': 14, 'index': 14}, {'id': 15, 'index': 15}, {'id': 16, 'index': 16}, {'id': 17, 'index': 17}, {'id': 18, 'index': 18}, {'id': 19, 'index': 19}, {'id': 20, 'index': 20}, {'id': 21, 'index': 21}, {'id': 22, 'index': 22}, {'id': 23, 'index': 23}, {'id': 24, 'index': 24}]\n",
      "{'id': '0', 'index': 0, 'x': 0.027367720380425453, 'y': 0.6161137223243713}\n",
      "{'id': '1', 'index': 1, 'x': 0.516376793384552, 'y': 0.7208918333053589}\n",
      "{'id': '2', 'index': 2, 'x': 0.19978280365467072, 'y': 1.0}\n",
      "{'id': '3', 'index': 3, 'x': 0.0, 'y': 0.6500657796859741}\n",
      "{'id': '4', 'index': 4, 'x': 0.32390740513801575, 'y': 0.5337868928909302}\n",
      "{'id': '5', 'index': 5, 'x': 0.06422387808561325, 'y': 0.9451594948768616}\n",
      "{'id': '6', 'index': 6, 'x': 0.4696332514286041, 'y': 0.5643844604492188}\n",
      "{'id': '7', 'index': 7, 'x': 0.13881641626358032, 'y': 0.7270081639289856}\n",
      "{'id': '8', 'index': 8, 'x': 0.43555888533592224, 'y': 0.6765668392181396}\n",
      "{'id': '9', 'index': 9, 'x': 0.3867965340614319, 'y': 0.34473100304603577}\n",
      "{'id': '10', 'index': 10, 'x': 0.6464256048202515, 'y': 0.2170763909816742}\n",
      "{'id': '11', 'index': 11, 'x': 0.1915629804134369, 'y': 0.36297836899757385}\n",
      "{'id': '12', 'index': 12, 'x': 0.19172999262809753, 'y': 0.6324642300605774}\n",
      "{'id': '13', 'index': 13, 'x': 0.4243048131465912, 'y': 0.689723014831543}\n",
      "{'id': '14', 'index': 14, 'x': 0.4572453796863556, 'y': 0.35664889216423035}\n",
      "{'id': '15', 'index': 15, 'x': 0.5535178780555725, 'y': 0.5672694444656372}\n",
      "{'id': '16', 'index': 16, 'x': 0.5524985194206238, 'y': 0.6691488027572632}\n",
      "{'id': '17', 'index': 17, 'x': 0.5488801002502441, 'y': 0.48001205921173096}\n",
      "{'id': '18', 'index': 18, 'x': 0.6502167582511902, 'y': 0.4238804280757904}\n",
      "{'id': '19', 'index': 19, 'x': 0.01931251585483551, 'y': 0.3085573613643646}\n",
      "{'id': '20', 'index': 20, 'x': 0.4399678111076355, 'y': 0.6787863373756409}\n",
      "{'id': '21', 'index': 21, 'x': 0.5661262273788452, 'y': 0.09264310449361801}\n",
      "{'id': '22', 'index': 22, 'x': 0.3848441243171692, 'y': 0.6218476891517639}\n",
      "{'id': '23', 'index': 23, 'x': 0.3530144989490509, 'y': 0.0}\n",
      "{'id': '24', 'index': 24, 'x': 0.36908891797065735, 'y': 0.33691874146461487}\n",
      "['0', '1', '2', '3', '4', '5', '6', '7', '8', '9', '10', '11', '12', '13', '14', '15', '16', '17', '18', '19', '20', '21', '22', '23', '24']\n",
      "25 25\n",
      "out: tsne_layouts/grid_tsne.json\n",
      "\n"
     ]
    }
   ],
   "source": [
    "\n",
    "for fn in fns:\n",
    "    print(' in: ' + fn)\n",
    "    with open(fn) as f:\n",
    "        graph = json.load(f)\n",
    "    print(graph['nodes'])\n",
    "    for n in graph['nodes']:\n",
    "        n['id'] = str(n['id'])\n",
    "        \n",
    "    for e in graph['edges']:\n",
    "        e['source'] = str(e['source'])\n",
    "        e['target'] = str(e['target'])\n",
    "        \n",
    "    for p in graph['initPositions']:\n",
    "        p['id'] = str(p['id'])\n",
    "    \n",
    "    for d, pos in zip(graph['nodes'], graph['initPositions']):\n",
    "        assert d['id'] == pos['id'], f\"{d['id']} != {pos['id']}\"\n",
    "        d['x'] = pos['x']\n",
    "        d['y'] = pos['y']\n",
    "        \n",
    "\n",
    "    \n",
    "    graph['nodes'] = natsorted(graph['nodes'], key=lambda x:x['id'])\n",
    "    \n",
    "    for n in graph['nodes']:\n",
    "        print(n)\n",
    "    nodes = [n['id'] for n in graph['nodes']]\n",
    "    \n",
    "    print(nodes)\n",
    "    edges = [[e['source'], e['target']] for e in graph['edges']]\n",
    "    \n",
    "    G = nx.Graph()\n",
    "    G.add_nodes_from(nodes)\n",
    "    G.add_edges_from(edges)\n",
    "    \n",
    "    nodeCount = len(G.nodes)\n",
    "    D, k2i = dict2tensor(dict(nx.all_pairs_shortest_path_length(G)))\n",
    "    Adj,_ = dict2tensor(dict(G.adjacency()), fill=1)\n",
    "    \n",
    "    eye = torch.eye(nodeCount, device=device)\n",
    "    W = 1/(D**2+eye)\n",
    "    print(len(G.nodes), len(graph['nodes']))\n",
    "    js = graph2json(G, D, W, graph['nodes'])\n",
    "    fnout = fn.split('/')[-1].replace('.dot', '.json')\n",
    "    if 'neato' in fnout:\n",
    "        fnout = 'neato_layouts/' + fnout\n",
    "    elif 'sfdp' in fnout:\n",
    "        fnout = 'sfdp_layouts/' + fnout\n",
    "    elif 'tsne' in fnout:\n",
    "        fnout = 'tsne_layouts/' + fnout\n",
    "    else:\n",
    "        raise Exception\n",
    "        \n",
    "    with open(fnout, 'w') as f:\n",
    "        json.dump(js, f, indent=2)\n",
    "        print(f'out: {fnout}')\n",
    "        print()\n",
    "        \n",
    "        \n",
    "    if 'neato.dot' in fn:\n",
    "        init_neato = [[d['x'], d['y']] for d in graph['nodes']]\n",
    "    if 'sfdp.dot' in fn:\n",
    "        init_sfdp = [[d['x'], d['y']] for d in graph['nodes']]\n",
    "#     if 'tsne.json' in fn:\n",
    "#         init_tsne = [[d['x'], d['y']] for d in graph['nodes']]\n",
    "        \n",
    "        js['initPosition_neato'] = init_neato\n",
    "        js['initPosition_sfdp'] = init_sfdp\n",
    "#         js['initPosition_tsne'] = init_tsne\n",
    "        \n",
    "        fnout = '_'.join(fnout.split('/')[-1].split('_')[:-1]) + '.json'\n",
    "        with open(fnout, 'w') as f:\n",
    "            json.dump(js, f, indent=2)\n",
    "            print('out: ' + fnout)\n",
    "        print('-'*20)\n",
    "        "
   ]
  },
  {
   "cell_type": "code",
   "execution_count": 96,
   "metadata": {},
   "outputs": [
    {
     "data": {
      "image/png": "[encoded data removed]",
      "text/plain": [
       "<Figure size 432x288 with 1 Axes>"
      ]
     },
     "metadata": {},
     "output_type": "display_data"
    }
   ],
   "source": [
    "nx.draw_networkx(G, pos={str(i):pos for i,pos in enumerate(init_neato)})"
   ]
  },
  {
   "cell_type": "code",
   "execution_count": 97,
   "metadata": {},
   "outputs": [
    {
     "data": {
      "text/plain": [
       "NodeView(('0', '1', '2', '3', '4', '5', '6', '7', '8', '9', '10', '11', '12', '13', '14', '15', '16', '17', '18', '19', '20', '21', '22', '23', '24'))"
      ]
     },
     "execution_count": 97,
     "metadata": {},
     "output_type": "execute_result"
    }
   ],
   "source": []
  },
  {
   "cell_type": "code",
   "execution_count": null,
   "metadata": {},
   "outputs": [],
   "source": []
  }
 ],
 "metadata": {
  "kernelspec": {
   "display_name": "Python 3",
   "language": "python",
   "name": "python3"
  },
  "language_info": {
   "codemirror_mode": {
    "name": "ipython",
    "version": 3
   },
   "file_extension": ".py",
   "mimetype": "text/x-python",
   "name": "python",
   "nbconvert_exporter": "python",
   "pygments_lexer": "ipython3",
   "version": "3.8.2"
  }
 },
 "nbformat": 4,
 "nbformat_minor": 2
}
