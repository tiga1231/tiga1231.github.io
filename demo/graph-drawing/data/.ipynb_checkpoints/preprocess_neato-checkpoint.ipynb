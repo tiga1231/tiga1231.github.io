{
 "cells": [
  {
   "cell_type": "code",
   "execution_count": 64,
   "metadata": {},
   "outputs": [],
   "source": [
    "from natsort import natsorted\n",
    "\n",
    "## sys\n",
    "import random\n",
    "import time\n",
    "from glob import glob\n",
    "import json\n",
    "\n",
    "\n",
    "## numeric\n",
    "import numpy as np\n",
    "import torch\n",
    "from torch import nn, optim\n",
    "import torch.nn.functional as F\n",
    "\n",
    "## vis\n",
    "import networkx as nx\n",
    "import matplotlib.pyplot as plt\n",
    "import matplotlib.animation as animation\n",
    "from matplotlib.colors import LinearSegmentedColormap\n",
    "from mpl_toolkits import mplot3d\n",
    "from matplotlib import collections  as mc\n",
    "from mpl_toolkits.mplot3d.art3d import Line3DCollection\n",
    "\n",
    "## notebook\n",
    "from IPython import display\n",
    "from tqdm import tqdm_notebook as tqdm\n",
    "\n",
    "device = torch.device('cuda') if torch.cuda.is_available() else torch.device('cpu')\n",
    "\n",
    "plt.style.use('ggplot')\n",
    "plt.style.use('seaborn-colorblind')"
   ]
  },
  {
   "cell_type": "code",
   "execution_count": 66,
   "metadata": {},
   "outputs": [],
   "source": [
    "def dict2tensor(d, fill=None):\n",
    "    n = len(d.keys())\n",
    "    k2i = {k:i for i,k in enumerate(natsorted(d.keys()))}\n",
    "    res = torch.zeros(len(d.keys()), len(d.keys()), device=device)\n",
    "    for src_node, dst_nodes in d.items():\n",
    "        for dst_node, distance in dst_nodes.items():\n",
    "            if fill is not None:\n",
    "                res[k2i[src_node],k2i[dst_node]] = fill\n",
    "            else:\n",
    "                res[k2i[src_node],k2i[dst_node]] = distance\n",
    "    return res, k2i\n",
    "\n",
    "\n",
    "def graph2json(G,D,W, initPositions):\n",
    "    return {\n",
    "        'nodes': [\n",
    "            {\n",
    "                'index':i, \n",
    "                'id': n,\n",
    "                'x': initPositions[i]['x'],\n",
    "                'y': initPositions[i]['y'],\n",
    "            } \n",
    "            for i, n in enumerate(G.nodes)\n",
    "        ],\n",
    "        'edges': [\n",
    "            {\n",
    "                'source': e1, \n",
    "                'target': e2\n",
    "            } \n",
    "            for e1,e2 in G.edges\n",
    "        ],\n",
    "        'weight': W.cpu().numpy().tolist(),\n",
    "        'graphDistance': D.cpu().numpy().tolist(),\n",
    "    }"
   ]
  },
  {
   "cell_type": "markdown",
   "metadata": {},
   "source": [
    "## generate a graph"
   ]
  },
  {
   "cell_type": "code",
   "execution_count": 67,
   "metadata": {},
   "outputs": [
    {
     "data": {
      "text/plain": [
       "['_neato_sfdp_layouts0/bipartite_neato.dot',\n",
       " '_neato_sfdp_layouts0/bipartite_sfdp.dot',\n",
       " '_tsne_output/bipartite_tsne.json',\n",
       " '_neato_sfdp_layouts0/block_neato.dot',\n",
       " '_neato_sfdp_layouts0/block_sfdp.dot',\n",
       " '_tsne_output/block_tsne.json',\n",
       " '_neato_sfdp_layouts0/complete_neato.dot',\n",
       " '_neato_sfdp_layouts0/complete_sfdp.dot',\n",
       " '_tsne_output/complete_tsne.json',\n",
       " '_neato_sfdp_layouts0/cube_neato.dot',\n",
       " '_neato_sfdp_layouts0/cube_sfdp.dot',\n",
       " '_tsne_output/cube_tsne.json',\n",
       " '_neato_sfdp_layouts0/cycle_neato.dot',\n",
       " '_neato_sfdp_layouts0/cycle_sfdp.dot',\n",
       " '_tsne_output/cycle_tsne.json',\n",
       " '_neato_sfdp_layouts0/dodecahedron_neato.dot',\n",
       " '_neato_sfdp_layouts0/dodecahedron_sfdp.dot',\n",
       " '_tsne_output/dodecahedron_tsne.json',\n",
       " '_neato_sfdp_layouts0/grid_neato.dot',\n",
       " '_neato_sfdp_layouts0/grid_sfdp.dot',\n",
       " '_tsne_output/grid_tsne.json',\n",
       " '_neato_sfdp_layouts0/nonsymmetric_neato.dot',\n",
       " '_neato_sfdp_layouts0/nonsymmetric_sfdp.dot',\n",
       " '_tsne_output/nonsymmetric_tsne.json',\n",
       " '_neato_sfdp_layouts0/spx_teaser_neato.dot',\n",
       " '_neato_sfdp_layouts0/spx_teaser_sfdp.dot',\n",
       " '_tsne_output/spx_teaser_tsne.json',\n",
       " '_neato_sfdp_layouts0/tree_neato.dot',\n",
       " '_neato_sfdp_layouts0/tree_sfdp.dot',\n",
       " '_tsne_output/tree_tsne.json']"
      ]
     },
     "execution_count": 67,
     "metadata": {},
     "output_type": "execute_result"
    }
   ],
   "source": [
    "fns = natsorted(\n",
    "    glob('_tsne_output/*.json')\n",
    "    +glob('_neato_sfdp_layouts0/*.dot'),\n",
    "    key=lambda x:x.split('/')[-1]\n",
    ")\n",
    "fns"
   ]
  },
  {
   "cell_type": "code",
   "execution_count": 70,
   "metadata": {},
   "outputs": [
    {
     "name": "stdout",
     "output_type": "stream",
     "text": [
      " in: _neato_sfdp_layouts0/bipartite_neato.dot\n",
      "out: neato_sfdp_layouts_json/neato_layouts/bipartite_neato.json\n",
      "\n",
      " in: _neato_sfdp_layouts0/bipartite_sfdp.dot\n",
      "out: neato_sfdp_layouts_json/sfdp_layouts/bipartite_sfdp.json\n",
      "\n",
      " in: _tsne_output/bipartite_tsne.json\n",
      "out: neato_sfdp_layouts_json/tsne_layouts/bipartite_tsne.json\n",
      "\n",
      "out: bipartite.json\n",
      "--------------------\n",
      " in: _neato_sfdp_layouts0/block_neato.dot\n",
      "out: neato_sfdp_layouts_json/neato_layouts/block_neato.json\n",
      "\n",
      " in: _neato_sfdp_layouts0/block_sfdp.dot\n",
      "out: neato_sfdp_layouts_json/sfdp_layouts/block_sfdp.json\n",
      "\n",
      " in: _tsne_output/block_tsne.json\n",
      "out: neato_sfdp_layouts_json/tsne_layouts/block_tsne.json\n",
      "\n",
      "out: block.json\n",
      "--------------------\n",
      " in: _neato_sfdp_layouts0/complete_neato.dot\n",
      "out: neato_sfdp_layouts_json/neato_layouts/complete_neato.json\n",
      "\n",
      " in: _neato_sfdp_layouts0/complete_sfdp.dot\n",
      "out: neato_sfdp_layouts_json/sfdp_layouts/complete_sfdp.json\n",
      "\n",
      " in: _tsne_output/complete_tsne.json\n",
      "out: neato_sfdp_layouts_json/tsne_layouts/complete_tsne.json\n",
      "\n",
      "out: complete.json\n",
      "--------------------\n",
      " in: _neato_sfdp_layouts0/cube_neato.dot\n",
      "out: neato_sfdp_layouts_json/neato_layouts/cube_neato.json\n",
      "\n",
      " in: _neato_sfdp_layouts0/cube_sfdp.dot\n",
      "out: neato_sfdp_layouts_json/sfdp_layouts/cube_sfdp.json\n",
      "\n",
      " in: _tsne_output/cube_tsne.json\n",
      "out: neato_sfdp_layouts_json/tsne_layouts/cube_tsne.json\n",
      "\n",
      "out: cube.json\n",
      "--------------------\n",
      " in: _neato_sfdp_layouts0/cycle_neato.dot\n",
      "out: neato_sfdp_layouts_json/neato_layouts/cycle_neato.json\n",
      "\n",
      " in: _neato_sfdp_layouts0/cycle_sfdp.dot\n",
      "out: neato_sfdp_layouts_json/sfdp_layouts/cycle_sfdp.json\n",
      "\n",
      " in: _tsne_output/cycle_tsne.json\n",
      "out: neato_sfdp_layouts_json/tsne_layouts/cycle_tsne.json\n",
      "\n",
      "out: cycle.json\n",
      "--------------------\n",
      " in: _neato_sfdp_layouts0/dodecahedron_neato.dot\n",
      "out: neato_sfdp_layouts_json/neato_layouts/dodecahedron_neato.json\n",
      "\n",
      " in: _neato_sfdp_layouts0/dodecahedron_sfdp.dot\n",
      "out: neato_sfdp_layouts_json/sfdp_layouts/dodecahedron_sfdp.json\n",
      "\n",
      " in: _tsne_output/dodecahedron_tsne.json\n",
      "out: neato_sfdp_layouts_json/tsne_layouts/dodecahedron_tsne.json\n",
      "\n",
      "out: dodecahedron.json\n",
      "--------------------\n",
      " in: _neato_sfdp_layouts0/grid_neato.dot\n",
      "out: neato_sfdp_layouts_json/neato_layouts/grid_neato.json\n",
      "\n",
      " in: _neato_sfdp_layouts0/grid_sfdp.dot\n",
      "out: neato_sfdp_layouts_json/sfdp_layouts/grid_sfdp.json\n",
      "\n",
      " in: _tsne_output/grid_tsne.json\n",
      "out: neato_sfdp_layouts_json/tsne_layouts/grid_tsne.json\n",
      "\n",
      "out: grid.json\n",
      "--------------------\n",
      " in: _neato_sfdp_layouts0/nonsymmetric_neato.dot\n",
      "out: neato_sfdp_layouts_json/neato_layouts/nonsymmetric_neato.json\n",
      "\n",
      " in: _neato_sfdp_layouts0/nonsymmetric_sfdp.dot\n",
      "out: neato_sfdp_layouts_json/sfdp_layouts/nonsymmetric_sfdp.json\n",
      "\n",
      " in: _tsne_output/nonsymmetric_tsne.json\n",
      "out: neato_sfdp_layouts_json/tsne_layouts/nonsymmetric_tsne.json\n",
      "\n",
      "out: nonsymmetric.json\n",
      "--------------------\n",
      " in: _neato_sfdp_layouts0/spx_teaser_neato.dot\n",
      "out: neato_sfdp_layouts_json/neato_layouts/spx_teaser_neato.json\n",
      "\n",
      " in: _neato_sfdp_layouts0/spx_teaser_sfdp.dot\n",
      "out: neato_sfdp_layouts_json/sfdp_layouts/spx_teaser_sfdp.json\n",
      "\n",
      " in: _tsne_output/spx_teaser_tsne.json\n",
      "out: neato_sfdp_layouts_json/tsne_layouts/spx_teaser_tsne.json\n",
      "\n",
      "out: spx_teaser.json\n",
      "--------------------\n",
      " in: _neato_sfdp_layouts0/tree_neato.dot\n",
      "out: neato_sfdp_layouts_json/neato_layouts/tree_neato.json\n",
      "\n",
      " in: _neato_sfdp_layouts0/tree_sfdp.dot\n",
      "out: neato_sfdp_layouts_json/sfdp_layouts/tree_sfdp.json\n",
      "\n",
      " in: _tsne_output/tree_tsne.json\n",
      "out: neato_sfdp_layouts_json/tsne_layouts/tree_tsne.json\n",
      "\n",
      "out: tree.json\n",
      "--------------------\n"
     ]
    }
   ],
   "source": [
    "\n",
    "for fn in fns:\n",
    "    print(' in: ' + fn)\n",
    "    with open(fn) as f:\n",
    "        graph = json.load(f)\n",
    "    \n",
    "    for d, pos in zip(graph['nodes'], graph['initPositions']):\n",
    "        d['x'] = pos['x']\n",
    "        d['y'] = pos['y']\n",
    "    \n",
    "    graph['nodes'] = natsorted(graph['nodes'], key=lambda x:x['id'])\n",
    "    nodes = [n['id'] for n in graph['nodes']]\n",
    "    edges = [[e['source'], e['target']] for e in graph['edges']]\n",
    "    \n",
    "    G = nx.Graph()\n",
    "    G.add_nodes_from(nodes)\n",
    "    G.add_edges_from(edges)\n",
    "    \n",
    "    nodeCount = len(G.nodes)\n",
    "    D, k2i = dict2tensor(dict(nx.all_pairs_shortest_path_length(G)))\n",
    "    Adj,_ = dict2tensor(dict(G.adjacency()), fill=1)\n",
    "    \n",
    "    eye = torch.eye(nodeCount, device=device)\n",
    "    W = 1/(D**2+eye)\n",
    "    \n",
    "    js = graph2json(G, D, W, graph['nodes'])\n",
    "    fnout = fn.split('/')[-1].replace('.dot', '.json')\n",
    "    if 'neato' in fnout:\n",
    "        fnout = 'neato_layouts/' + fnout\n",
    "    elif 'sfdp' in fnout:\n",
    "        fnout = 'sfdp_layouts/' + fnout\n",
    "    elif 'tsne' in fnout:\n",
    "        fnout = 'tsne_layouts/' + fnout\n",
    "    else:\n",
    "        raise Exception\n",
    "        \n",
    "    with open(fnout, 'w') as f:\n",
    "        json.dump(js, f, indent=2)\n",
    "        print('out: neato_sfdp_layouts_json/'+fnout)\n",
    "        print()\n",
    "        \n",
    "        \n",
    "    if 'neato.dot' in fn:\n",
    "        init_neato = [[d['x'], d['y']] for d in js['nodes']]\n",
    "        \n",
    "    if 'sfdp.dot' in fn:\n",
    "        init_sfdp = [[d['x'], d['y']] for d in js['nodes']]\n",
    "    \n",
    "    if 'tsne.json' in fn:\n",
    "        init_tsne = [[d['x'], d['y']] for d in js['nodes']]\n",
    "        \n",
    "        js['initPosition_neato'] = init_neato\n",
    "        js['initPosition_sfdp'] = init_sfdp\n",
    "        js['initPosition_tsne'] = init_tsne\n",
    "        \n",
    "        fnout = '_'.join(fnout.split('/')[-1].split('_')[:-1]) + '.json'\n",
    "        with open(fnout, 'w') as f:\n",
    "            json.dump(js, f, indent=2)\n",
    "            print('out: ' + fnout)\n",
    "        print('-'*20)\n",
    "        "
   ]
  },
  {
   "cell_type": "code",
   "execution_count": 72,
   "metadata": {},
   "outputs": [
    {
     "data": {
      "text/plain": [
       "NodeView((0, 1, 2, 3, 4, 5, 6, 7, 8, 9, 10, 11, 12, 13, 14))"
      ]
     },
     "execution_count": 72,
     "metadata": {},
     "output_type": "execute_result"
    }
   ],
   "source": [
    "G.nodes"
   ]
  },
  {
   "cell_type": "code",
   "execution_count": 77,
   "metadata": {},
   "outputs": [
    {
     "data": {
      "image/png": "[encoded data removed]",
      "text/plain": [
       "<Figure size 432x288 with 1 Axes>"
      ]
     },
     "metadata": {},
     "output_type": "display_data"
    }
   ],
   "source": [
    "nx.draw_networkx(G, pos=init_tsne)"
   ]
  },
  {
   "cell_type": "code",
   "execution_count": 89,
   "metadata": {},
   "outputs": [],
   "source": [
    "with open('_tsne_output/tree_tsne.json') as f:\n",
    "    js = json.load(f)\n",
    "    nodes = [p['id'] for p in js['nodes']]\n",
    "    edges = [[e['source'],e['target']] for e in js['edges']]\n",
    "    pos = {p['id']:[p['x'], p['y']] for p in js['initPositions']}\n",
    "    G = nx.Graph()\n"
   ]
  },
  {
   "cell_type": "code",
   "execution_count": 91,
   "metadata": {},
   "outputs": [],
   "source": [
    "G.add_nodes_from(nodes)\n",
    "G.add_edges_from(edges)"
   ]
  },
  {
   "cell_type": "code",
   "execution_count": 92,
   "metadata": {},
   "outputs": [
    {
     "data": {
      "image/png": "[encoded data removed]",
      "text/plain": [
       "<Figure size 432x288 with 1 Axes>"
      ]
     },
     "metadata": {},
     "output_type": "display_data"
    }
   ],
   "source": [
    "nx.draw_networkx(G, pos=pos)"
   ]
  },
  {
   "cell_type": "code",
   "execution_count": null,
   "metadata": {},
   "outputs": [],
   "source": []
  }
 ],
 "metadata": {
  "kernelspec": {
   "display_name": "Python 3",
   "language": "python",
   "name": "python3"
  },
  "language_info": {
   "codemirror_mode": {
    "name": "ipython",
    "version": 3
   },
   "file_extension": ".py",
   "mimetype": "text/x-python",
   "name": "python",
   "nbconvert_exporter": "python",
   "pygments_lexer": "ipython3",
   "version": "3.8.2"
  }
 },
 "nbformat": 4,
 "nbformat_minor": 2
}
